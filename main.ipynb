{
 "cells": [
  {
   "cell_type": "code",
   "execution_count": 26,
   "id": "1681411e",
   "metadata": {},
   "outputs": [],
   "source": [
    "# Step 1: Zaruri libraries ko import kar rahe hain\n",
    "import pandas as pd                # Data load aur handle karne ke liye\n",
    "import numpy as np                 # Numbers aur calculations ke liye\n",
    "import matplotlib.pyplot as plt    # Charts banane ke liye\n",
    "import seaborn as sns              # Beautiful graphs ke liye\n",
    "\n",
    "# Default graph style ko set kar rahe hain\n",
    "sns.set(style=\"whitegrid\")\n",
    "import pandas as pd\n",
    "data = pd.read_csv(r'F:\\DA Review 2\\sales_data.csv')\n"
   ]
  },
  {
   "cell_type": "code",
   "execution_count": 27,
   "id": "46f6d188",
   "metadata": {},
   "outputs": [
    {
     "name": "stdout",
     "output_type": "stream",
     "text": [
      "  Invoice_ID        Date     Customer_Name  Gender   Location Product_ID  \\\n",
      "0    INV0001  2025-03-12       Megan Brock  Female  Bangalore      P2002   \n",
      "1    INV0002  2024-12-13          Erin Kim    Male  Hyderabad      P3003   \n",
      "2    INV0003  2024-12-06  Jermaine Roberts    Male     Jaipur      P5002   \n",
      "3    INV0004  2025-04-10       Aaron Smith  Female     Jaipur      P1001   \n",
      "4    INV0005  2025-01-31       Jill Wright    Male     Mumbai      P4001   \n",
      "\n",
      "       Product_Name     Category  Quantity  Unit_Price  Total_Price  \\\n",
      "0     Dell Inspiron       Laptop       1.0       48000      48000.0   \n",
      "1    JBL Headphones  Accessories       4.0        2500      10000.0   \n",
      "2  Boat Smart Watch  Smart Watch       1.0        2500       2500.0   \n",
      "3       Samsung M14       Mobile       4.0       14000      56000.0   \n",
      "4  Samsung Smart TV     Smart TV       5.0       40000     200000.0   \n",
      "\n",
      "  Payment_Method  Rating  \n",
      "0           Cash     4.2  \n",
      "1           Card     4.2  \n",
      "2         Wallet     4.8  \n",
      "3           Card     3.4  \n",
      "4            UPI     4.3  \n",
      "Index(['Invoice_ID', 'Date', 'Customer_Name', 'Gender', 'Location',\n",
      "       'Product_ID', 'Product_Name', 'Category', 'Quantity', 'Unit_Price',\n",
      "       'Total_Price', 'Payment_Method', 'Rating'],\n",
      "      dtype='object')\n",
      "<class 'pandas.core.frame.DataFrame'>\n",
      "RangeIndex: 1000 entries, 0 to 999\n",
      "Data columns (total 13 columns):\n",
      " #   Column          Non-Null Count  Dtype  \n",
      "---  ------          --------------  -----  \n",
      " 0   Invoice_ID      997 non-null    object \n",
      " 1   Date            998 non-null    object \n",
      " 2   Customer_Name   999 non-null    object \n",
      " 3   Gender          999 non-null    object \n",
      " 4   Location        998 non-null    object \n",
      " 5   Product_ID      999 non-null    object \n",
      " 6   Product_Name    999 non-null    object \n",
      " 7   Category        998 non-null    object \n",
      " 8   Quantity        998 non-null    float64\n",
      " 9   Unit_Price      1000 non-null   int64  \n",
      " 10  Total_Price     999 non-null    float64\n",
      " 11  Payment_Method  997 non-null    object \n",
      " 12  Rating          999 non-null    float64\n",
      "dtypes: float64(3), int64(1), object(9)\n",
      "memory usage: 101.7+ KB\n",
      "None\n"
     ]
    }
   ],
   "source": [
    "import pandas as pd\n",
    "\n",
    "# CSV file load karo (apne path ke hisaab se)\n",
    "data = pd.read_csv(r'F:\\DA Review 2\\sales_data.csv')\n",
    "\n",
    "# Pehli 5 rows dikhate hain taaki data samajh aaye\n",
    "print(data.head())\n",
    "\n",
    "# Columns ke naam dekho\n",
    "print(data.columns)\n",
    "\n",
    "# Data types aur missing values check karo\n",
    "print(data.info())\n"
   ]
  },
  {
   "cell_type": "code",
   "execution_count": 28,
   "id": "8fffa041",
   "metadata": {},
   "outputs": [
    {
     "name": "stdout",
     "output_type": "stream",
     "text": [
      "0   2025-03-12\n",
      "1   2024-12-13\n",
      "2   2024-12-06\n",
      "3   2025-04-10\n",
      "4   2025-01-31\n",
      "Name: Date, dtype: datetime64[ns]\n"
     ]
    }
   ],
   "source": [
    "# Date column ko datetime format mein convert karte hain\n",
    "data['Date'] = pd.to_datetime(data['Date'])\n",
    "\n",
    "# Check karo date conversion sahi hua ya nahi\n",
    "print(data['Date'].head())\n"
   ]
  },
  {
   "cell_type": "markdown",
   "id": "559cbbd2",
   "metadata": {},
   "source": [
    "Total Sales per Product (Bar Chart)\n"
   ]
  },
  {
   "cell_type": "code",
   "execution_count": 29,
   "id": "13606170",
   "metadata": {},
   "outputs": [
    {
     "name": "stderr",
     "output_type": "stream",
     "text": [
      "C:\\Users\\devanshu\\AppData\\Local\\Temp\\ipykernel_13412\\3795576371.py:5: FutureWarning:\n",
      "\n",
      "\n",
      "\n",
      "Passing `palette` without assigning `hue` is deprecated and will be removed in v0.14.0. Assign the `x` variable to `hue` and set `legend=False` for the same effect.\n",
      "\n",
      "\n"
     ]
    },
    {
     "data": {
      "image/png": "[encoded data removed]",
      "text/plain": [
       "<Figure size 1200x600 with 1 Axes>"
      ]
     },
     "metadata": {},
     "output_type": "display_data"
    }
   ],
   "source": [
    "# Bar chart banane ke liye data prepare karo - total sales per product\n",
    "product_sales = data.groupby('Product_Name')['Total_Price'].sum().sort_values(ascending=False)\n",
    "\n",
    "plt.figure(figsize=(12,6))\n",
    "sns.barplot(x=product_sales.index, y=product_sales.values, palette='viridis')\n",
    "\n",
    "plt.xticks(rotation=45)\n",
    "plt.title('Total Sales by Product')\n",
    "plt.xlabel('Product Name')\n",
    "plt.ylabel('Total Sales Amount')\n",
    "\n",
    "plt.show()"
   ]
  },
  {
   "cell_type": "markdown",
   "id": "d3fca46b",
   "metadata": {},
   "source": [
    "Monthly Sales Trend ke liye Line Chart"
   ]
  },
  {
   "cell_type": "code",
   "execution_count": 30,
   "id": "24220213",
   "metadata": {},
   "outputs": [
    {
     "data": {
      "image/png": "[encoded data removed]",
      "text/plain": [
       "<Figure size 1200x600 with 1 Axes>"
      ]
     },
     "metadata": {},
     "output_type": "display_data"
    }
   ],
   "source": [
    "# Month-Year column banana\n",
    "data['Month_Year'] = data['Date'].dt.to_period('M')\n",
    "\n",
    "# Monthly sales ka total nikalna\n",
    "monthly_sales = data.groupby('Month_Year')['Total_Price'].sum()\n",
    "\n",
    "plt.figure(figsize=(12,6))\n",
    "monthly_sales.plot(kind='line', marker='o')\n",
    "\n",
    "plt.title('Monthly Sales Trend')\n",
    "plt.xlabel('Month-Year')\n",
    "plt.ylabel('Total Sales Amount')\n",
    "plt.xticks(rotation=45)\n",
    "plt.grid(True)\n",
    "\n",
    "plt.show()"
   ]
  },
  {
   "cell_type": "markdown",
   "id": "f5895b92",
   "metadata": {},
   "source": [
    " Gender-wise Sales Distribution (Pie Chart)"
   ]
  },
  {
   "cell_type": "code",
   "execution_count": 31,
   "id": "36de47a8",
   "metadata": {},
   "outputs": [
    {
     "data": {
      "image/png": "[encoded data removed]",
      "text/plain": [
       "<Figure size 800x800 with 1 Axes>"
      ]
     },
     "metadata": {},
     "output_type": "display_data"
    }
   ],
   "source": [
    "# Gender wise total sales\n",
    "gender_sales = data.groupby('Gender')['Total_Price'].sum()\n",
    "\n",
    "plt.figure(figsize=(8,8))\n",
    "plt.pie(gender_sales, labels=gender_sales.index, autopct='%1.1f%%', startangle=140, colors=['#ff9999','#66b3ff'])\n",
    "plt.title('Sales Distribution by Gender')\n",
    "plt.show()"
   ]
  },
  {
   "cell_type": "markdown",
   "id": "a02c00ff",
   "metadata": {},
   "source": [
    "Top 5 Locations ke Sales (Horizontal Bar Chart)"
   ]
  },
  {
   "cell_type": "code",
   "execution_count": 32,
   "id": "675a9bbd",
   "metadata": {},
   "outputs": [
    {
     "data": {
      "image/png": "[encoded data removed]",
      "text/plain": [
       "<Figure size 1000x600 with 1 Axes>"
      ]
     },
     "metadata": {},
     "output_type": "display_data"
    }
   ],
   "source": [
    "# Location wise sales\n",
    "location_sales = data.groupby('Location')['Total_Price'].sum().sort_values(ascending=True).tail(5)\n",
    "\n",
    "plt.figure(figsize=(10,6))\n",
    "location_sales.plot(kind='barh', color='teal')\n",
    "plt.title('Top 5 Locations by Sales')\n",
    "plt.xlabel('Total Sales Amount')\n",
    "plt.show()\n"
   ]
  },
  {
   "cell_type": "markdown",
   "id": "5db02ae3",
   "metadata": {},
   "source": [
    " Payment Method Analysis (Countplot with Seaborn)"
   ]
  },
  {
   "cell_type": "code",
   "execution_count": 33,
   "id": "98a3370f",
   "metadata": {},
   "outputs": [
    {
     "name": "stderr",
     "output_type": "stream",
     "text": [
      "C:\\Users\\devanshu\\AppData\\Local\\Temp\\ipykernel_13412\\2556302325.py:2: FutureWarning:\n",
      "\n",
      "\n",
      "\n",
      "Passing `palette` without assigning `hue` is deprecated and will be removed in v0.14.0. Assign the `x` variable to `hue` and set `legend=False` for the same effect.\n",
      "\n",
      "\n"
     ]
    },
    {
     "data": {
      "image/png": "[encoded data removed]",
      "text/plain": [
       "<Figure size 800x600 with 1 Axes>"
      ]
     },
     "metadata": {},
     "output_type": "display_data"
    }
   ],
   "source": [
    "plt.figure(figsize=(8,6))\n",
    "sns.countplot(data=data, x='Payment_Method', palette='pastel')\n",
    "plt.title('Number of Transactions by Payment Method')\n",
    "plt.xlabel('Payment Method')\n",
    "plt.ylabel('Number of Transactions')\n",
    "plt.show()\n"
   ]
  },
  {
   "cell_type": "markdown",
   "id": "1e186405",
   "metadata": {},
   "source": [
    " Interactive Line Chart – Monthly Sales Trend by Product Category\n"
   ]
  },
  {
   "cell_type": "code",
   "execution_count": null,
   "id": "60dde4a3",
   "metadata": {},
   "outputs": [
    {
     "data": {
      "application/vnd.plotly.v1+json": {
       "config": {
        "plotlyServerURL": "https://plot.ly"
       },
       "data": [
        {
         "hovertemplate": "Category=Accessories<br>Month=%{x}<br>Total_Price=%{y}<extra></extra>",
         "legendgroup": "Accessories",
         "line": {
          "color": "#636efa",
          "dash": "solid"
         },
         "marker": {
          "symbol": "circle"
         },
         "mode": "lines",
         "name": "Accessories",
         "orientation": "v",
         "showlegend": true,
         "type": "scatter",
         "x": [
          "2024-11",
          "2024-12",
          "2025-01",
          "2025-02",
          "2025-03",
          "2025-04",
          "2025-05",
          "NaT"
         ],
         "xaxis": "x",
         "y": {
          "bdata": "AAAAAODIAEEAAAAAQMEHQQAAAACgCAZBAAAAAOC8AkEAAAAAQPQLQQAAAABAwvtAAAAAAMB08UAAAAAAAIizQA==",
          "dtype": "f8"
         },
         "yaxis": "y"
        },
        {
         "hovertemplate": "Category=Laptop<br>Month=%{x}<br>Total_Price=%{y}<extra></extra>",
         "legendgroup": "Laptop",
         "line": {
          "color": "#EF553B",
          "dash": "solid"
         },
         "marker": {
          "symbol": "circle"
         },
         "mode": "lines",
         "name": "Laptop",
         "orientation": "v",
         "showlegend": true,
         "type": "scatter",
         "x": [
          "2024-11",
          "2024-12",
          "2025-01",
          "2025-02",
          "2025-03",
          "2025-04",
          "2025-05"
         ],
         "xaxis": "x",
         "y": {
          "bdata": "AAAAAEDiTkEAAAAApAFeQQAAAADLEGBBAAAAAKQrV0EAAAAA0QNiQQAAAAD6QF9BAAAAAPQeUEE=",
          "dtype": "f8"
         },
         "yaxis": "y"
        },
        {
         "hovertemplate": "Category=Mobile<br>Month=%{x}<br>Total_Price=%{y}<extra></extra>",
         "legendgroup": "Mobile",
         "line": {
          "color": "#00cc96",
          "dash": "solid"
         },
         "marker": {
          "symbol": "circle"
         },
         "mode": "lines",
         "name": "Mobile",
         "orientation": "v",
         "showlegend": true,
         "type": "scatter",
         "x": [
          "2024-11",
          "2024-12",
          "2025-01",
          "2025-02",
          "2025-03",
          "2025-04",
          "2025-05"
         ],
         "xaxis": "x",
         "y": {
          "bdata": "AAAAANBHP0EAAAAA/J9NQQAAAADUpkZBAAAAAEhMS0EAAAAASAVSQQAAAADuB1RBAAAAALAvRkE=",
          "dtype": "f8"
         },
         "yaxis": "y"
        },
        {
         "hovertemplate": "Category=Smart TV<br>Month=%{x}<br>Total_Price=%{y}<extra></extra>",
         "legendgroup": "Smart TV",
         "line": {
          "color": "#ab63fa",
          "dash": "solid"
         },
         "marker": {
          "symbol": "circle"
         },
         "mode": "lines",
         "name": "Smart TV",
         "orientation": "v",
         "showlegend": true,
         "type": "scatter",
         "x": [
          "2024-11",
          "2024-12",
          "2025-01",
          "2025-02",
          "2025-03",
          "2025-04",
          "2025-05",
          "NaT"
         ],
         "xaxis": "x",
         "y": {
          "bdata": "AAAAAMB6MEEAAAAAwOsyQQAAAACAojlBAAAAAIBPQkEAAAAAQAY5QQAAAAAAFzFBAAAAAAAXIUEAAAAAAIgDQQ==",
          "dtype": "f8"
         },
         "yaxis": "y"
        },
        {
         "hovertemplate": "Category=Smart Watch<br>Month=%{x}<br>Total_Price=%{y}<extra></extra>",
         "legendgroup": "Smart Watch",
         "line": {
          "color": "#FFA15A",
          "dash": "solid"
         },
         "marker": {
          "symbol": "circle"
         },
         "mode": "lines",
         "name": "Smart Watch",
         "orientation": "v",
         "showlegend": true,
         "type": "scatter",
         "x": [
          "2024-11",
          "2024-12",
          "2025-01",
          "2025-02",
          "2025-03",
          "2025-04",
          "2025-05"
         ],
         "xaxis": "x",
         "y": {
          "bdata": "AAAAACCgDEEAAAAAHCo0QQAAAABE1jJBAAAAAByVN0EAAAAAsL4zQQAAAABkgzhBAAAAAHDmHEE=",
          "dtype": "f8"
         },
         "yaxis": "y"
        }
       ],
       "layout": {
        "legend": {
         "title": {
          "text": "Category"
         },
         "tracegroupgap": 0
        },
        "template": {
         "data": {
          "bar": [
           {
            "error_x": {
             "color": "#2a3f5f"
            },
            "error_y": {
             "color": "#2a3f5f"
            },
            "marker": {
             "line": {
              "color": "#E5ECF6",
              "width": 0.5
             },
             "pattern": {
              "fillmode": "overlay",
              "size": 10,
              "solidity": 0.2
             }
            },
            "type": "bar"
           }
          ],
          "barpolar": [
           {
            "marker": {
             "line": {
              "color": "#E5ECF6",
              "width": 0.5
             },
             "pattern": {
              "fillmode": "overlay",
              "size": 10,
              "solidity": 0.2
             }
            },
            "type": "barpolar"
           }
          ],
          "carpet": [
           {
            "aaxis": {
             "endlinecolor": "#2a3f5f",
             "gridcolor": "white",
             "linecolor": "white",
             "minorgridcolor": "white",
             "startlinecolor": "#2a3f5f"
            },
            "baxis": {
             "endlinecolor": "#2a3f5f",
             "gridcolor": "white",
             "linecolor": "white",
             "minorgridcolor": "white",
             "startlinecolor": "#2a3f5f"
            },
            "type": "carpet"
           }
          ],
          "choropleth": [
           {
            "colorbar": {
             "outlinewidth": 0,
             "ticks": ""
            },
            "type": "choropleth"
           }
          ],
          "contour": [
           {
            "colorbar": {
             "outlinewidth": 0,
             "ticks": ""
            },
            "colorscale": [
             [
              0,
              "#0d0887"
             ],
             [
              0.1111111111111111,
              "#46039f"
             ],
             [
              0.2222222222222222,
              "#7201a8"
             ],
             [
              0.3333333333333333,
              "#9c179e"
             ],
             [
              0.4444444444444444,
              "#bd3786"
             ],
             [
              0.5555555555555556,
              "#d8576b"
             ],
             [
              0.6666666666666666,
              "#ed7953"
             ],
             [
              0.7777777777777778,
              "#fb9f3a"
             ],
             [
              0.8888888888888888,
              "#fdca26"
             ],
             [
              1,
              "#f0f921"
             ]
            ],
            "type": "contour"
           }
          ],
          "contourcarpet": [
           {
            "colorbar": {
             "outlinewidth": 0,
             "ticks": ""
            },
            "type": "contourcarpet"
           }
          ],
          "heatmap": [
           {
            "colorbar": {
             "outlinewidth": 0,
             "ticks": ""
            },
            "colorscale": [
             [
              0,
              "#0d0887"
             ],
             [
              0.1111111111111111,
              "#46039f"
             ],
             [
              0.2222222222222222,
              "#7201a8"
             ],
             [
              0.3333333333333333,
              "#9c179e"
             ],
             [
              0.4444444444444444,
              "#bd3786"
             ],
             [
              0.5555555555555556,
              "#d8576b"
             ],
             [
              0.6666666666666666,
              "#ed7953"
             ],
             [
              0.7777777777777778,
              "#fb9f3a"
             ],
             [
              0.8888888888888888,
              "#fdca26"
             ],
             [
              1,
              "#f0f921"
             ]
            ],
            "type": "heatmap"
           }
          ],
          "histogram": [
           {
            "marker": {
             "pattern": {
              "fillmode": "overlay",
              "size": 10,
              "solidity": 0.2
             }
            },
            "type": "histogram"
           }
          ],
          "histogram2d": [
           {
            "colorbar": {
             "outlinewidth": 0,
             "ticks": ""
            },
            "colorscale": [
             [
              0,
              "#0d0887"
             ],
             [
              0.1111111111111111,
              "#46039f"
             ],
             [
              0.2222222222222222,
              "#7201a8"
             ],
             [
              0.3333333333333333,
              "#9c179e"
             ],
             [
              0.4444444444444444,
              "#bd3786"
             ],
             [
              0.5555555555555556,
              "#d8576b"
             ],
             [
              0.6666666666666666,
              "#ed7953"
             ],
             [
              0.7777777777777778,
              "#fb9f3a"
             ],
             [
              0.8888888888888888,
              "#fdca26"
             ],
             [
              1,
              "#f0f921"
             ]
            ],
            "type": "histogram2d"
           }
          ],
          "histogram2dcontour": [
           {
            "colorbar": {
             "outlinewidth": 0,
             "ticks": ""
            },
            "colorscale": [
             [
              0,
              "#0d0887"
             ],
             [
              0.1111111111111111,
              "#46039f"
             ],
             [
              0.2222222222222222,
              "#7201a8"
             ],
             [
              0.3333333333333333,
              "#9c179e"
             ],
             [
              0.4444444444444444,
              "#bd3786"
             ],
             [
              0.5555555555555556,
              "#d8576b"
             ],
             [
              0.6666666666666666,
              "#ed7953"
             ],
             [
              0.7777777777777778,
              "#fb9f3a"
             ],
             [
              0.8888888888888888,
              "#fdca26"
             ],
             [
              1,
              "#f0f921"
             ]
            ],
            "type": "histogram2dcontour"
           }
          ],
          "mesh3d": [
           {
            "colorbar": {
             "outlinewidth": 0,
             "ticks": ""
            },
            "type": "mesh3d"
           }
          ],
          "parcoords": [
           {
            "line": {
             "colorbar": {
              "outlinewidth": 0,
              "ticks": ""
             }
            },
            "type": "parcoords"
           }
          ],
          "pie": [
           {
            "automargin": true,
            "type": "pie"
           }
          ],
          "scatter": [
           {
            "fillpattern": {
             "fillmode": "overlay",
             "size": 10,
             "solidity": 0.2
            },
            "type": "scatter"
           }
          ],
          "scatter3d": [
           {
            "line": {
             "colorbar": {
              "outlinewidth": 0,
              "ticks": ""
             }
            },
            "marker": {
             "colorbar": {
              "outlinewidth": 0,
              "ticks": ""
             }
            },
            "type": "scatter3d"
           }
          ],
          "scattercarpet": [
           {
            "marker": {
             "colorbar": {
              "outlinewidth": 0,
              "ticks": ""
             }
            },
            "type": "scattercarpet"
           }
          ],
          "scattergeo": [
           {
            "marker": {
             "colorbar": {
              "outlinewidth": 0,
              "ticks": ""
             }
            },
            "type": "scattergeo"
           }
          ],
          "scattergl": [
           {
            "marker": {
             "colorbar": {
              "outlinewidth": 0,
              "ticks": ""
             }
            },
            "type": "scattergl"
           }
          ],
          "scattermap": [
           {
            "marker": {
             "colorbar": {
              "outlinewidth": 0,
              "ticks": ""
             }
            },
            "type": "scattermap"
           }
          ],
          "scattermapbox": [
           {
            "marker": {
             "colorbar": {
              "outlinewidth": 0,
              "ticks": ""
             }
            },
            "type": "scattermapbox"
           }
          ],
          "scatterpolar": [
           {
            "marker": {
             "colorbar": {
              "outlinewidth": 0,
              "ticks": ""
             }
            },
            "type": "scatterpolar"
           }
          ],
          "scatterpolargl": [
           {
            "marker": {
             "colorbar": {
              "outlinewidth": 0,
              "ticks": ""
             }
            },
            "type": "scatterpolargl"
           }
          ],
          "scatterternary": [
           {
            "marker": {
             "colorbar": {
              "outlinewidth": 0,
              "ticks": ""
             }
            },
            "type": "scatterternary"
           }
          ],
          "surface": [
           {
            "colorbar": {
             "outlinewidth": 0,
             "ticks": ""
            },
            "colorscale": [
             [
              0,
              "#0d0887"
             ],
             [
              0.1111111111111111,
              "#46039f"
             ],
             [
              0.2222222222222222,
              "#7201a8"
             ],
             [
              0.3333333333333333,
              "#9c179e"
             ],
             [
              0.4444444444444444,
              "#bd3786"
             ],
             [
              0.5555555555555556,
              "#d8576b"
             ],
             [
              0.6666666666666666,
              "#ed7953"
             ],
             [
              0.7777777777777778,
              "#fb9f3a"
             ],
             [
              0.8888888888888888,
              "#fdca26"
             ],
             [
              1,
              "#f0f921"
             ]
            ],
            "type": "surface"
           }
          ],
          "table": [
           {
            "cells": {
             "fill": {
              "color": "#EBF0F8"
             },
             "line": {
              "color": "white"
             }
            },
            "header": {
             "fill": {
              "color": "#C8D4E3"
             },
             "line": {
              "color": "white"
             }
            },
            "type": "table"
           }
          ]
         },
         "layout": {
          "annotationdefaults": {
           "arrowcolor": "#2a3f5f",
           "arrowhead": 0,
           "arrowwidth": 1
          },
          "autotypenumbers": "strict",
          "coloraxis": {
           "colorbar": {
            "outlinewidth": 0,
            "ticks": ""
           }
          },
          "colorscale": {
           "diverging": [
            [
             0,
             "#8e0152"
            ],
            [
             0.1,
             "#c51b7d"
            ],
            [
             0.2,
             "#de77ae"
            ],
            [
             0.3,
             "#f1b6da"
            ],
            [
             0.4,
             "#fde0ef"
            ],
            [
             0.5,
             "#f7f7f7"
            ],
            [
             0.6,
             "#e6f5d0"
            ],
            [
             0.7,
             "#b8e186"
            ],
            [
             0.8,
             "#7fbc41"
            ],
            [
             0.9,
             "#4d9221"
            ],
            [
             1,
             "#276419"
            ]
           ],
           "sequential": [
            [
             0,
             "#0d0887"
            ],
            [
             0.1111111111111111,
             "#46039f"
            ],
            [
             0.2222222222222222,
             "#7201a8"
            ],
            [
             0.3333333333333333,
             "#9c179e"
            ],
            [
             0.4444444444444444,
             "#bd3786"
            ],
            [
             0.5555555555555556,
             "#d8576b"
            ],
            [
             0.6666666666666666,
             "#ed7953"
            ],
            [
             0.7777777777777778,
             "#fb9f3a"
            ],
            [
             0.8888888888888888,
             "#fdca26"
            ],
            [
             1,
             "#f0f921"
            ]
           ],
           "sequentialminus": [
            [
             0,
             "#0d0887"
            ],
            [
             0.1111111111111111,
             "#46039f"
            ],
            [
             0.2222222222222222,
             "#7201a8"
            ],
            [
             0.3333333333333333,
             "#9c179e"
            ],
            [
             0.4444444444444444,
             "#bd3786"
            ],
            [
             0.5555555555555556,
             "#d8576b"
            ],
            [
             0.6666666666666666,
             "#ed7953"
            ],
            [
             0.7777777777777778,
             "#fb9f3a"
            ],
            [
             0.8888888888888888,
             "#fdca26"
            ],
            [
             1,
             "#f0f921"
            ]
           ]
          },
          "colorway": [
           "#636efa",
           "#EF553B",
           "#00cc96",
           "#ab63fa",
           "#FFA15A",
           "#19d3f3",
           "#FF6692",
           "#B6E880",
           "#FF97FF",
           "#FECB52"
          ],
          "font": {
           "color": "#2a3f5f"
          },
          "geo": {
           "bgcolor": "white",
           "lakecolor": "white",
           "landcolor": "#E5ECF6",
           "showlakes": true,
           "showland": true,
           "subunitcolor": "white"
          },
          "hoverlabel": {
           "align": "left"
          },
          "hovermode": "closest",
          "mapbox": {
           "style": "light"
          },
          "paper_bgcolor": "white",
          "plot_bgcolor": "#E5ECF6",
          "polar": {
           "angularaxis": {
            "gridcolor": "white",
            "linecolor": "white",
            "ticks": ""
           },
           "bgcolor": "#E5ECF6",
           "radialaxis": {
            "gridcolor": "white",
            "linecolor": "white",
            "ticks": ""
           }
          },
          "scene": {
           "xaxis": {
            "backgroundcolor": "#E5ECF6",
            "gridcolor": "white",
            "gridwidth": 2,
            "linecolor": "white",
            "showbackground": true,
            "ticks": "",
            "zerolinecolor": "white"
           },
           "yaxis": {
            "backgroundcolor": "#E5ECF6",
            "gridcolor": "white",
            "gridwidth": 2,
            "linecolor": "white",
            "showbackground": true,
            "ticks": "",
            "zerolinecolor": "white"
           },
           "zaxis": {
            "backgroundcolor": "#E5ECF6",
            "gridcolor": "white",
            "gridwidth": 2,
            "linecolor": "white",
            "showbackground": true,
            "ticks": "",
            "zerolinecolor": "white"
           }
          },
          "shapedefaults": {
           "line": {
            "color": "#2a3f5f"
           }
          },
          "ternary": {
           "aaxis": {
            "gridcolor": "white",
            "linecolor": "white",
            "ticks": ""
           },
           "baxis": {
            "gridcolor": "white",
            "linecolor": "white",
            "ticks": ""
           },
           "bgcolor": "#E5ECF6",
           "caxis": {
            "gridcolor": "white",
            "linecolor": "white",
            "ticks": ""
           }
          },
          "title": {
           "x": 0.05
          },
          "xaxis": {
           "automargin": true,
           "gridcolor": "white",
           "linecolor": "white",
           "ticks": "",
           "title": {
            "standoff": 15
           },
           "zerolinecolor": "white",
           "zerolinewidth": 2
          },
          "yaxis": {
           "automargin": true,
           "gridcolor": "white",
           "linecolor": "white",
           "ticks": "",
           "title": {
            "standoff": 15
           },
           "zerolinecolor": "white",
           "zerolinewidth": 2
          }
         }
        },
        "title": {
         "text": "Interactive: Monthly Sales Trend by Category"
        },
        "updatemenus": [
         {
          "active": 0,
          "buttons": [
           {
            "args": [
             {
              "visible": [
               true,
               false,
               false,
               false,
               false
              ]
             },
             {
              "title": "Monthly Sales Trend - Accessories"
             }
            ],
            "label": "Accessories",
            "method": "update"
           },
           {
            "args": [
             {
              "visible": [
               false,
               true,
               false,
               false,
               false
              ]
             },
             {
              "title": "Monthly Sales Trend - Laptop"
             }
            ],
            "label": "Laptop",
            "method": "update"
           },
           {
            "args": [
             {
              "visible": [
               false,
               false,
               true,
               false,
               false
              ]
             },
             {
              "title": "Monthly Sales Trend - Mobile"
             }
            ],
            "label": "Mobile",
            "method": "update"
           },
           {
            "args": [
             {
              "visible": [
               false,
               false,
               false,
               true,
               false
              ]
             },
             {
              "title": "Monthly Sales Trend - Smart TV"
             }
            ],
            "label": "Smart TV",
            "method": "update"
           },
           {
            "args": [
             {
              "visible": [
               false,
               false,
               false,
               false,
               true
              ]
             },
             {
              "title": "Monthly Sales Trend - Smart Watch"
             }
            ],
            "label": "Smart Watch",
            "method": "update"
           }
          ],
          "direction": "down",
          "showactive": true
         }
        ],
        "xaxis": {
         "anchor": "y",
         "categoryorder": "category ascending",
         "domain": [
          0,
          1
         ],
         "title": {
          "text": "Month"
         },
         "type": "category"
        },
        "yaxis": {
         "anchor": "x",
         "domain": [
          0,
          1
         ],
         "title": {
          "text": "Total_Price"
         }
        }
       }
      }
     },
     "metadata": {},
     "output_type": "display_data"
    }
   ],
   "source": [
    "import plotly.express as px  # <-- Add this line if not already added\n",
    "\n",
    "# Step 1: Ensure Date is in datetime format\n",
    "data['Date'] = pd.to_datetime(data['Date'])\n",
    "\n",
    "# Step 2: Extract month-year for grouping\n",
    "data['Month'] = data['Date'].dt.to_period('M').astype(str)\n",
    "\n",
    "# Step 3: Group by Month and Category\n",
    "monthly_sales = data.groupby(['Month', 'Category'])['Total_Price'].sum().reset_index()\n",
    "\n",
    "# Step 4: Create interactive line chart\n",
    "fig = px.line(monthly_sales, x='Month', y='Total_Price', color='Category',\n",
    "              title='Interactive: Monthly Sales Trend by Category')\n",
    "\n",
    "# Step 5: Sort months properly\n",
    "fig.update_xaxes(type='category', categoryorder='category ascending')\n",
    "\n",
    "# Step 6: Add dropdown menu to select category\n",
    "fig.update_layout(\n",
    "    updatemenus=[\n",
    "        dict(\n",
    "            active=0,\n",
    "            buttons=[\n",
    "                dict(label=cat,\n",
    "                     method=\"update\",\n",
    "                     args=[\n",
    "                         {\"visible\": [monthly_sales['Category'].unique().tolist().index(cat) == i for i in range(len(monthly_sales['Category'].unique()))]},\n",
    "                         {\"title\": f\"Monthly Sales Trend - {cat}\"}\n",
    "                     ])\n",
    "                for cat in monthly_sales['Category'].unique()\n",
    "            ],\n",
    "            direction=\"down\",\n",
    "            showactive=True,\n",
    "        )\n",
    "    ]\n",
    ")\n",
    "\n",
    "fig.show()\n"
   ]
  }
 ],
 "metadata": {
  "kernelspec": {
   "display_name": "Python 3",
   "language": "python",
   "name": "python3"
  },
  "language_info": {
   "codemirror_mode": {
    "name": "ipython",
    "version": 3
   },
   "file_extension": ".py",
   "mimetype": "text/x-python",
   "name": "python",
   "nbconvert_exporter": "python",
   "pygments_lexer": "ipython3",
   "version": "3.13.1"
  }
 },
 "nbformat": 4,
 "nbformat_minor": 5
}
