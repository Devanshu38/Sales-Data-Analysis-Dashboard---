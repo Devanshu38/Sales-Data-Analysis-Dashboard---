{
 "cells": [
  {
   "cell_type": "code",
   "execution_count": null,
   "id": "1681411e",
   "metadata": {},
   "outputs": [],
   "source": [
    "# Step 1: Zaruri libraries ko import kar rahe hain\n",
    "import pandas as pd                # Data load aur handle karne ke liye\n",
    "import numpy as np                 # Numbers aur calculations ke liye\n",
    "import matplotlib.pyplot as plt    # Charts banane ke liye\n",
    "import seaborn as sns              # Beautiful graphs ke liye\n",
    "\n",
    "# Default graph style ko set kar rahe hain\n",
    "sns.set(style=\"whitegrid\")\n"
   ]
  }
 ],
 "metadata": {
  "kernelspec": {
   "display_name": "Python 3",
   "language": "python",
   "name": "python3"
  },
  "language_info": {
   "codemirror_mode": {
    "name": "ipython",
    "version": 3
   },
   "file_extension": ".py",
   "mimetype": "text/x-python",
   "name": "python",
   "nbconvert_exporter": "python",
   "pygments_lexer": "ipython3",
   "version": "3.13.1"
  }
 },
 "nbformat": 4,
 "nbformat_minor": 5
}
